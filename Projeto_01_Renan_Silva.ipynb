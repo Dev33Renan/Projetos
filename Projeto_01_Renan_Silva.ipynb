{
  "nbformat": 4,
  "nbformat_minor": 0,
  "metadata": {
    "colab": {
      "name": "Projeto 01 -Renan_Silva.ipynb",
      "provenance": [],
      "collapsed_sections": []
    },
    "kernelspec": {
      "name": "python3",
      "display_name": "Python 3"
    },
    "language_info": {
      "name": "python"
    }
  },
  "cells": [
    {
      "cell_type": "code",
      "metadata": {
        "id": "g-cbXrx-TKqZ"
      },
      "source": [
        "print('''        ________   ________    _________  ____________;_\n",
        "      - ______ \\ - ______ \\ / _____   //.  .  ._______/\n",
        "     / /     / // /     / //_/     / // ___   /\n",
        "    / /     / // /     / /       .-'//_/|_/,-'\n",
        "   / /     / // /     / /     .-'.-'\n",
        "  / /     / // /     / /     / /\n",
        " / /     / // /     / /     / /\n",
        "/ /_____/ // /_____/ /     / /\n",
        "\\________- \\________-     /_/\n",
        "\n",
        "------------------------  Você está no MI6''' )\n",
        "print(\"Responda as perguntas abaixo, apenas com as respostas Sim ou Não\" )\n",
        "print(\"Qualquer resposta diferentes, serão ignoradas!\" )\n",
        "\n",
        "\n",
        "c1 = 'Suspeito'\n",
        "c2 = 'Cúmplice'\n",
        "c3 = 'Assassino'\n",
        "c4 = 'Inocente'\n",
        " \n",
        "resposta = str (input(\"Telefonou para a vítima? \"))\n",
        "resposta.lower()\n",
        "count = 0\n",
        " \n",
        "if resposta == 'sim' or resposta == 's':\n",
        "  count += 1\n",
        " \n",
        "resposta = str (input(\"Você esteve no local do crime? \"))\n",
        "resposta.lower()\n",
        " \n",
        "if resposta == 'sim' or resposta == 's':\n",
        "  count += 1 \n",
        " \n",
        "resposta = str (input(\"Você mora perto da vítima? \"))\n",
        "resposta.lower()\n",
        " \n",
        "if resposta == 'sim' or resposta == 's':\n",
        "  count = count +1\n",
        " \n",
        "resposta = str (input(\"Você devia para a vítima?\"))\n",
        "resposta.lower()\n",
        " \n",
        "if resposta == 'sim' or resposta == 's':\n",
        "  count = count +1\n",
        " \n",
        "resposta = str (input(\"Você já trabalhou com a vítima? \"))\n",
        "resposta.lower()\n",
        " \n",
        "if resposta == 'sim' or resposta == 's':\n",
        "  count = count +1\n",
        " \n",
        "if count == 2:\n",
        "  print(c1)\n",
        " \n",
        "if count == 3 or count == 4:\n",
        "  print(c2)\n",
        " \n",
        "if count == 5:\n",
        "  print(c3)\n",
        " \n",
        "if count == 0:\n",
        "  print(c4)"
      ],
      "execution_count": null,
      "outputs": []
    }
  ]
}